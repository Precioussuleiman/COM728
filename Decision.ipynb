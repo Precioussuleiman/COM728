{
 "cells": [
  {
   "cell_type": "markdown",
   "id": "4728ae04",
   "metadata": {},
   "source": [
    "if_else statement\n"
   ]
  },
  {
   "cell_type": "code",
   "execution_count": 11,
   "id": "869c914e",
   "metadata": {},
   "outputs": [
    {
     "name": "stdout",
     "output_type": "stream",
     "text": [
      "Please enter the activity to be perform: driving\n",
      "Performing activity....\n",
      "Activity completed!.\n"
     ]
    }
   ],
   "source": [
    "user_input = input (\"Please enter the activity to be perform: \")\n",
    "if user_input == \"calculate\":\n",
    "    print (\"Performing calculations....\")\n",
    "else:\n",
    "    print (\"Performing activity....\")\n",
    "\n",
    "print(\"Activity completed!.\")"
   ]
  },
  {
   "cell_type": "markdown",
   "id": "0e1b43e1",
   "metadata": {},
   "source": [
    "if_elif_else statement"
   ]
  },
  {
   "cell_type": "code",
   "execution_count": 16,
   "id": "3a840256",
   "metadata": {},
   "outputs": [
    {
     "name": "stdout",
     "output_type": "stream",
     "text": [
      "Towards which direction should i paint (up, down,left or right)right\n",
      "I am painting in the right direction\n"
     ]
    }
   ],
   "source": [
    "#Get input from user\n",
    "direction = input (\"Towards which direction should i paint (up, down,left or right)\")\n",
    "\n",
    "#display appropriate output\n",
    "if direction == \"up\":\n",
    "    print (\"I am painting in the upward direction!\")\n",
    "elif direction == \"down\":\n",
    "    print (\"I am painting in the downward direction!\")\n",
    "elif direction == \"left\":\n",
    "    print (\"I am painting in the left direction!\")\n",
    "elif direction == \"right\":\n",
    "    print (\"I am painting in the right direction!\")\n",
    "\n",
    "    \n",
    "    "
   ]
  },
  {
   "cell_type": "markdown",
   "id": "cae93c59",
   "metadata": {},
   "source": [
    "modulo_operator"
   ]
  },
  {
   "cell_type": "code",
   "execution_count": 22,
   "id": "71e0029c",
   "metadata": {},
   "outputs": [
    {
     "name": "stdout",
     "output_type": "stream",
     "text": [
      "Please enter a whole number:7\n",
      "The number 7 is odd\n"
     ]
    }
   ],
   "source": [
    "#get input from user\n",
    "number = int(input (\"Please enter a whole number:\"))\n",
    "\n",
    "#check if number is odd or even\n",
    "if number % 2 == 0:\n",
    "    print(f\"The number {number} is even\")\n",
    "else:\n",
    "    print (f\"The number {number} is odd\")\n"
   ]
  },
  {
   "cell_type": "markdown",
   "id": "a9afe536",
   "metadata": {},
   "source": [
    "comparison_operators"
   ]
  },
  {
   "cell_type": "code",
   "execution_count": 31,
   "id": "d571bfca",
   "metadata": {},
   "outputs": [
    {
     "name": "stdout",
     "output_type": "stream",
     "text": [
      "Please enter the first number:10\n",
      "Please enter the second number:6\n",
      "The second number 6 is the smallest\n"
     ]
    }
   ],
   "source": [
    "#get first number from user\n",
    "number_1 = input (\"Please enter the first number:\")\n",
    "\n",
    "#get second number from user\n",
    "number_2 = input (\"Please enter the second number:\")\n",
    "\n",
    "if number_2 == number_1:\n",
    "    print (\"Both numbers are equal\")\n",
    "elif number_1 > number_2:\n",
    "    print(f\"The first number {number_1} is the smallest\")\n",
    "elif number_1 < number_2:\n",
    "    print (f\"The second number {number_2} is the smallest\")\n",
    "\n",
    "\n"
   ]
  },
  {
   "cell_type": "code",
   "execution_count": null,
   "id": "3d550eaf",
   "metadata": {},
   "outputs": [],
   "source": []
  }
 ],
 "metadata": {
  "kernelspec": {
   "display_name": "COM728",
   "language": "python",
   "name": "com728"
  },
  "language_info": {
   "codemirror_mode": {
    "name": "ipython",
    "version": 3
   },
   "file_extension": ".py",
   "mimetype": "text/x-python",
   "name": "python",
   "nbconvert_exporter": "python",
   "pygments_lexer": "ipython3",
   "version": "3.10.13"
  }
 },
 "nbformat": 4,
 "nbformat_minor": 5
}
