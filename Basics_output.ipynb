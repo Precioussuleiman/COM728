{
 "cells": [
  {
   "cell_type": "markdown",
   "id": "6d731610",
   "metadata": {},
   "source": [
    "simple_message"
   ]
  },
  {
   "cell_type": "code",
   "execution_count": 1,
   "id": "1ef31f86",
   "metadata": {},
   "outputs": [
    {
     "name": "stdout",
     "output_type": "stream",
     "text": [
      "System Failure Imminent!\n"
     ]
    }
   ],
   "source": [
    "# Display message to the standard output\n",
    "print (\"System Failure Imminent!\")"
   ]
  },
  {
   "cell_type": "markdown",
   "id": "a8eac4cf",
   "metadata": {},
   "source": [
    "multiline_message\n"
   ]
  },
  {
   "cell_type": "code",
   "execution_count": 2,
   "id": "d29f1cf6",
   "metadata": {},
   "outputs": [
    {
     "name": "stdout",
     "output_type": "stream",
     "text": [
      "System Failure Imminent!\n",
      "Sysytem reboot has been initiated...\n"
     ]
    }
   ],
   "source": [
    "# Display message to the standard output\n",
    "print (\"System Failure Imminent!\")\n",
    "print (\"Sysytem reboot has been initiated...\")"
   ]
  },
  {
   "cell_type": "code",
   "execution_count": 4,
   "id": "13f632a9",
   "metadata": {},
   "outputs": [
    {
     "name": "stdout",
     "output_type": "stream",
     "text": [
      "System Failure Imminent!\n",
      "Sysytem reboot has been initiated...\n",
      "\n",
      "\n",
      "...rebooting sensory system\n",
      "...rebooting output motors\n",
      "...rebooting hover engine\n",
      "\n",
      "\n",
      "system online.\n"
     ]
    }
   ],
   "source": [
    "print (\"System Failure Imminent!\")\n",
    "print (\"Sysytem reboot has been initiated...\")\n",
    "print (\"\")\n",
    "print (\"\")\n",
    "print (\"...rebooting sensory system\")\n",
    "print (\"...rebooting output motors\")\n",
    "print (\"...rebooting hover engine\")\n",
    "print (\"\")\n",
    "print (\"\")\n",
    "print (\"system online.\")"
   ]
  },
  {
   "cell_type": "markdown",
   "id": "71354185",
   "metadata": {},
   "source": [
    "escape_characters"
   ]
  },
  {
   "cell_type": "code",
   "execution_count": 11,
   "id": "67d4d95f",
   "metadata": {},
   "outputs": [
    {
     "name": "stdout",
     "output_type": "stream",
     "text": [
      "\n",
      " Displays a new line\n",
      "\t Displays a tab space\n",
      "\\ Displays a back slash\n",
      "\" Dispalys a double quote\n",
      "' Displays a single quote\n",
      "\n",
      "\n",
      "\t \"I am Beep!\"\n"
     ]
    }
   ],
   "source": [
    "# Display escape characters\n",
    "print (\"\\n Displays a new line\")\n",
    "print (\"\\t Displays a tab space\")\n",
    "print (\"\\\\ Displays a back slash\")\n",
    "print (\"\\\" Dispalys a double quote\")\n",
    "print (\"\\' Displays a single quote\")\n",
    "print(\"\\n\")\n",
    "print (\"\\t \\\"I am Beep!\\\"\")\n"
   ]
  },
  {
   "cell_type": "code",
   "execution_count": null,
   "id": "ae6e9e98",
   "metadata": {},
   "outputs": [],
   "source": []
  }
 ],
 "metadata": {
  "kernelspec": {
   "display_name": "COM728",
   "language": "python",
   "name": "com728"
  },
  "language_info": {
   "codemirror_mode": {
    "name": "ipython",
    "version": 3
   },
   "file_extension": ".py",
   "mimetype": "text/x-python",
   "name": "python",
   "nbconvert_exporter": "python",
   "pygments_lexer": "ipython3",
   "version": "3.10.13"
  }
 },
 "nbformat": 4,
 "nbformat_minor": 5
}
