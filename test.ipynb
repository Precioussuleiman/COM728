{
 "cells": [
  {
   "cell_type": "code",
   "execution_count": 1,
   "id": "119a0e9c",
   "metadata": {},
   "outputs": [
    {
     "name": "stdout",
     "output_type": "stream",
     "text": [
      "Its going to be a loooong 9 months\n"
     ]
    }
   ],
   "source": [
    "print (\"Its going to be a loooong 9 months\")"
   ]
  },
  {
   "cell_type": "code",
   "execution_count": null,
   "id": "f1a0c243",
   "metadata": {},
   "outputs": [],
   "source": []
  }
 ],
 "metadata": {
  "kernelspec": {
   "display_name": "Python 3 (ipykernel)",
   "language": "python",
   "name": "python3"
  },
  "language_info": {
   "codemirror_mode": {
    "name": "ipython",
    "version": 3
   },
   "file_extension": ".py",
   "mimetype": "text/x-python",
   "name": "python",
   "nbconvert_exporter": "python",
   "pygments_lexer": "ipython3",
   "version": "3.10.9"
  }
 },
 "nbformat": 4,
 "nbformat_minor": 5
}
