{
 "cells": [
  {
   "cell_type": "markdown",
   "id": "f294368a",
   "metadata": {},
   "source": [
    "Activity: simple_list"
   ]
  },
  {
   "cell_type": "code",
   "execution_count": 6,
   "id": "fd344344",
   "metadata": {},
   "outputs": [
    {
     "name": "stdout",
     "output_type": "stream",
     "text": [
      "['Move Forward', 'Move Backward', 'Turn Left', 'Turn Right']\n"
     ]
    }
   ],
   "source": [
    "#Defining the first function\n",
    "\n",
    "def directions():\n",
    "    directions  = [\"Move Forward\", \"Move Backward\", \"Turn Left\", \"Turn Right\"]\n",
    "    return directions\n",
    "\n",
    "#Defining the second function\n",
    "\n",
    "def run():\n",
    "    x = directions()\n",
    "    print(x)\n",
    "\n",
    "run()\n",
    "\n",
    "                     "
   ]
  },
  {
   "cell_type": "markdown",
   "id": "c62125bf",
   "metadata": {},
   "source": [
    "Activity: index_list"
   ]
  },
  {
   "cell_type": "code",
   "execution_count": 7,
   "id": "65db15a6",
   "metadata": {},
   "outputs": [
    {
     "name": "stdout",
     "output_type": "stream",
     "text": [
      "Moving......\n",
      "Move Forward for 10 steps... \n",
      "Move Backward for 5 steps... \n",
      "Move Left for 3 steps... \n",
      "Move Right for 1 steps... \n"
     ]
    }
   ],
   "source": [
    "#Defining the first function\n",
    "\n",
    "def movement():\n",
    "    path = [\"Move Forward\", 10, \"Move Backward\", 5, \"Move Left\", 3, \"Move Right\", 1]\n",
    "    return path\n",
    "\n",
    "#Defining the second functon\n",
    "\n",
    "def run():\n",
    "    print(\"Moving......\")\n",
    "    x = movement()\n",
    "    \n",
    "#accessing the list via indexing\n",
    "\n",
    "    print(f\"{x[0]} for {x[1]} steps... \")\n",
    "    print(f\"{x[2]} for {x[3]} steps... \")\n",
    "    print(f\"{x[4]} for {x[5]} steps... \")\n",
    "    print(f\"{x[6]} for {x[7]} steps... \")\n",
    "    \n",
    "run()    "
   ]
  },
  {
   "cell_type": "markdown",
   "id": "4ad4b71d",
   "metadata": {},
   "source": [
    "Activity: populate_list"
   ]
  },
  {
   "cell_type": "code",
   "execution_count": null,
   "id": "173b1cd3",
   "metadata": {},
   "outputs": [
    {
     "name": "stdout",
     "output_type": "stream",
     "text": [
      "Working out escape route....\n"
     ]
    }
   ],
   "source": [
    "#defining the first function with no parameters\n",
    "def directions():\n",
    "    directions = [\"Move Forward\", \"Move Backward\", \"Turn Left\", \"Turn Right\"]\n",
    "    return directions\n",
    "    \n",
    "    \n",
    "#defining the seconnd function with no parameters  \n",
    "\n",
    "def menu():\n",
    "    userinput = input(\"Please select a direction:\")\n",
    "    x = directions()\n",
    "    for i in range (4):\n",
    "        print(f\"{i}:{x[i]}\")\n",
    "      \n",
    "\n",
    "  \n",
    " \n",
    "          \n",
    "#defining the third function with no parameters\n",
    "\n",
    "def run():\n",
    "    route = []\n",
    "    print(\"Working out escape route....\") l\n",
    "     \n",
    "    for i in range(3):\n",
    "         menu()\n",
    "         y = menu()   \n",
    "         route.append(y)\n",
    "    print(f\"Escape route: {route[0]}, {route[1]}, {route[2]} \")\n",
    "\n",
    "         \n",
    "          \n",
    "run()         \n",
    "          "
   ]
  },
  {
   "cell_type": "code",
   "execution_count": null,
   "id": "b4f47888",
   "metadata": {},
   "outputs": [],
   "source": []
  },
  {
   "cell_type": "code",
   "execution_count": null,
   "id": "1b8726ff",
   "metadata": {},
   "outputs": [],
   "source": []
  }
 ],
 "metadata": {
  "kernelspec": {
   "display_name": "Python 3 (ipykernel)",
   "language": "python",
   "name": "python3"
  },
  "language_info": {
   "codemirror_mode": {
    "name": "ipython",
    "version": 3
   },
   "file_extension": ".py",
   "mimetype": "text/x-python",
   "name": "python",
   "nbconvert_exporter": "python",
   "pygments_lexer": "ipython3",
   "version": "3.10.9"
  }
 },
 "nbformat": 4,
 "nbformat_minor": 5
}
