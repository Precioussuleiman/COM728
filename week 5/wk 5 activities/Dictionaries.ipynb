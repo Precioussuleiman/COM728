{
 "cells": [
  {
   "cell_type": "markdown",
   "id": "f8d104ba",
   "metadata": {},
   "source": [
    "Activity: simple_dict"
   ]
  },
  {
   "cell_type": "code",
   "execution_count": 1,
   "id": "0af897f7",
   "metadata": {},
   "outputs": [
    {
     "name": "stdout",
     "output_type": "stream",
     "text": [
      "{'Short Sequence': 3, 'Medium Sequence': 2, 'Long Sequence': 1}\n"
     ]
    }
   ],
   "source": [
    "def pattern():\n",
    "    sequences = {\"Short Sequence\":3, \"Medium Sequence\":2, \"Long Sequence\":1}\n",
    "    return sequences\n",
    "\n",
    "def run():\n",
    "    x = pattern()\n",
    "    print (x)\n",
    "run()    "
   ]
  },
  {
   "cell_type": "markdown",
   "id": "04421fec",
   "metadata": {},
   "source": [
    "Activity: iterate_dict"
   ]
  },
  {
   "cell_type": "code",
   "execution_count": 11,
   "id": "e1eba982",
   "metadata": {},
   "outputs": [
    {
     "name": "stdout",
     "output_type": "stream",
     "text": [
      "{'Short Sequence': 3, 'Medium Sequence': 2, 'Long Sequence': 1}\n"
     ]
    },
    {
     "ename": "TypeError",
     "evalue": "display_keys() missing 1 required positional argument: 'sequences'",
     "output_type": "error",
     "traceback": [
      "\u001b[1;31m---------------------------------------------------------------------------\u001b[0m",
      "\u001b[1;31mTypeError\u001b[0m                                 Traceback (most recent call last)",
      "Cell \u001b[1;32mIn[11], line 26\u001b[0m\n\u001b[0;32m     23\u001b[0m     display_values()\n\u001b[0;32m     24\u001b[0m     display_items()\n\u001b[1;32m---> 26\u001b[0m \u001b[43mrun\u001b[49m\u001b[43m(\u001b[49m\u001b[43m)\u001b[49m\n",
      "Cell \u001b[1;32mIn[11], line 22\u001b[0m, in \u001b[0;36mrun\u001b[1;34m()\u001b[0m\n\u001b[0;32m     20\u001b[0m x \u001b[38;5;241m=\u001b[39m pattern()\n\u001b[0;32m     21\u001b[0m \u001b[38;5;28mprint\u001b[39m (x)\n\u001b[1;32m---> 22\u001b[0m \u001b[43mdisplay_keys\u001b[49m\u001b[43m(\u001b[49m\u001b[43m)\u001b[49m\n\u001b[0;32m     23\u001b[0m display_values()\n\u001b[0;32m     24\u001b[0m display_items()\n",
      "\u001b[1;31mTypeError\u001b[0m: display_keys() missing 1 required positional argument: 'sequences'"
     ]
    }
   ],
   "source": [
    "def pattern():\n",
    "    sequences = {\"Short Sequence\":3, \"Medium Sequence\":2, \"Long Sequence\":1}\n",
    "    return sequences\n",
    "\n",
    "def display_keys(sequences):\n",
    "    for key in sequences.keys():\n",
    "        print(f\"keys: {key}\")\n",
    "\n",
    "def display_values(sequences):\n",
    "    for value in sequences.values():\n",
    "        print(f\"values: {value}\")\n",
    "\n",
    "def display_items(sequences):\n",
    "    for key in sequences:\n",
    "        print(key, scores[key])\n",
    "                \n",
    "        \n",
    "    \n",
    "def run():\n",
    "    x = pattern()\n",
    "    print (x)\n",
    "    display_keys()\n",
    "    display_values()\n",
    "    display_items()\n",
    "    \n",
    "run() "
   ]
  },
  {
   "cell_type": "markdown",
   "id": "50a0f64d",
   "metadata": {},
   "source": [
    "Optional: nested_dicts"
   ]
  },
  {
   "cell_type": "code",
   "execution_count": null,
   "id": "cb2aec9c",
   "metadata": {},
   "outputs": [],
   "source": [
    "def short_pattern():\n",
    "    pattern = {\"sequence\":\"101\",  \"occurrences\":5}\n",
    "    return pattern\n",
    "    short_pattern_dict = pattern\n",
    "\n",
    "def medium_pattern():\n",
    "    pattern = {\"sequence\":\"111000\", \"occurrences\": 25}\n",
    "    return pattern\n",
    "    medium_pattern_dict = pattern\n",
    "\n",
    "def long_pattern():\n",
    "    pattern = { \"sequence\":\"1100110011001100\", \"occurrences\":50}\n",
    "    return pattern\n",
    "    long_pattern_dict = pattern\n",
    "\n",
    "def run():\n",
    "    short_pattern_dict,medium_pattern_dict,long_pattern_dict = run()\n",
    "    print(\"Analysing patterns..... \")\n",
    "    x = {\"short sequence\":{short_pattern_dict}, \"medium sequence\":{medium_pattern_dict},  \"long sequence\":{long_pattern_dict} }\n",
    "    for key in x:\n",
    "        print(key, x[key])\n",
    "    \n",
    "run()"
   ]
  },
  {
   "cell_type": "code",
   "execution_count": null,
   "id": "e6ea9d8b",
   "metadata": {},
   "outputs": [],
   "source": []
  }
 ],
 "metadata": {
  "kernelspec": {
   "display_name": "Python 3 (ipykernel)",
   "language": "python",
   "name": "python3"
  },
  "language_info": {
   "codemirror_mode": {
    "name": "ipython",
    "version": 3
   },
   "file_extension": ".py",
   "mimetype": "text/x-python",
   "name": "python",
   "nbconvert_exporter": "python",
   "pygments_lexer": "ipython3",
   "version": "3.10.9"
  }
 },
 "nbformat": 4,
 "nbformat_minor": 5
}
