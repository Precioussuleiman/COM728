{
 "cells": [
  {
   "cell_type": "code",
   "execution_count": 3,
   "id": "fe2dc888",
   "metadata": {},
   "outputs": [
    {
     "name": "stdout",
     "output_type": "stream",
     "text": [
      "What is your name, student? preshi\n",
      "What is the distance from your home to school (in km)?  15\n",
      "Where do you live, preshi? sainbury\n",
      "preshi, your average time to get to the school from sainbury is 5 hr(s).\n",
      "Also you will burn 984 calories and take 19,685 steps.\n"
     ]
    }
   ],
   "source": [
    "'''The program will calculate the number of steps, calories burned \n",
    "   And average time taken by students to get to school from home. (Debbie, Precious, Julie, Chidi, David, Troy)'''\n",
    "\n",
    "# Get input from user\n",
    "\n",
    "def user_input():\n",
    "    username = input(\"What is your name, student? \")\n",
    "    distance = float(input(\"What is the distance from your home to school (in km)?  \"))\n",
    "    location = input(f\"Where do you live, {username}? \")\n",
    "    return username, distance, location\n",
    "\n",
    "def calculation(distance):\n",
    "   #average speed of a person walking is 3m/h\n",
    "    avg_speed = 3\n",
    "    time = distance/avg_speed\n",
    "    steps = distance * 1312.34\n",
    "    calories = 0.05 * steps\n",
    "    return time, steps, calories\n",
    "    \n",
    "\n",
    "if __name__ == '__main__':\n",
    "    username,distance,location = user_input()\n",
    "    time,steps,calories = calculation(distance)  \n",
    "    print(f\"{username}, your average time to get to the school from {location} is {time:.0f} hr(s).\")  \n",
    "    print(f\"Also you will burn {calories:.0f} calories and take {steps:,.0f} steps.\")"
   ]
  },
  {
   "cell_type": "code",
   "execution_count": null,
   "id": "52bdf4a5",
   "metadata": {},
   "outputs": [],
   "source": []
  }
 ],
 "metadata": {
  "kernelspec": {
   "display_name": "COM728",
   "language": "python",
   "name": "com728"
  },
  "language_info": {
   "codemirror_mode": {
    "name": "ipython",
    "version": 3
   },
   "file_extension": ".py",
   "mimetype": "text/x-python",
   "name": "python",
   "nbconvert_exporter": "python",
   "pygments_lexer": "ipython3",
   "version": "3.10.13"
  }
 },
 "nbformat": 4,
 "nbformat_minor": 5
}
