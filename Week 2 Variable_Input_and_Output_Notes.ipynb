{
 "cells": [
  {
   "cell_type": "markdown",
   "id": "1cd8cc27",
   "metadata": {},
   "source": [
    "# Week 2: Data Type, Variables, Input & Output"
   ]
  },
  {
   "cell_type": "markdown",
   "id": "9bd47a9d",
   "metadata": {},
   "source": [
    "<font size=\"5\">**Learning Objectives**</font><br>\n",
    "<font size=\"3\">After this session, you should be able to:</font>\n",
    "- <font size=\"3\">identify numeric data type</font>\n",
    "- <font size=\"3\">identify character and string</font>\n",
    "- <font size=\"3\">identify collection data types</font>\n",
    "- <font size=\"3\">identify variables with appropriate names using appropriate style conventions</font>\n",
    "- <font size=\"3\">define python syntax for obtaining values from a user</font>\n",
    "- <font size=\"3\">define python syntax to display values</font>"
   ]
  },
  {
   "cell_type": "markdown",
   "id": "1048d662",
   "metadata": {},
   "source": [
    "***"
   ]
  },
  {
   "cell_type": "markdown",
   "id": "a04448ac",
   "metadata": {},
   "source": [
    "# Recap from previous class"
   ]
  },
  {
   "cell_type": "markdown",
   "id": "06ce9abe",
   "metadata": {},
   "source": [
    "- <font size=3>The problem solving process is a process of finding a solution to a problem</font>\n",
    "    - <font size=3>Understand the problem: specify the problem requirements, what are the inputs?, what are the outputs?, what are the data to work with?</font>\n",
    "    - <font size=3>Design a plan: the step-by-step procedures require to solve the problem (algorithm)</font>\n",
    "    - <font size=3>Implement: write actual code based on your algorithm</font>\n",
    "    - <font size=3>Test and Verify: test the completed program to verify that it works as desired and use different sets of data</font>"
   ]
  },
  {
   "cell_type": "markdown",
   "id": "5621af79",
   "metadata": {},
   "source": [
    "---"
   ]
  },
  {
   "cell_type": "markdown",
   "id": "5c327d77",
   "metadata": {},
   "source": [
    "# Data Type"
   ]
  },
  {
   "cell_type": "markdown",
   "id": "1f867468",
   "metadata": {},
   "source": [
    "- <font size=\"3\">In computer programming, data types specify the type of data that can be stored inside a variable.</font>\n",
    "- <font size=\"3\">A data type consists of <span style=\"color: blue;\">a set of values</span> and <span style=\"color: blue;\">a set of operations</span> that can be performed on those values</font>\n",
    "- <font size=\"3\">Python has four primitive data types (the simplest forms of representing data) and 3 data collections:</font>\n",
    "    - <font size=\"3\">Basic Data Types</font>\n",
    "        - <font size=\"3\"> Numeric: integer, float, complex</font>\n",
    "        - <font size=\"3\">Character and String</font>\n",
    "        - <font size=\"3\">Boolean</font>\n",
    "    - <font size=\"3\">Data Collection Types</font>\n",
    "        - <font size =\"3\">Sequence: list, tuple, range</font>\n",
    "        - <font size =\"3\">Mapping: dictionary</font>\n",
    "        - <font size =\"3\">Set: set</font>"
   ]
  },
  {
   "cell_type": "markdown",
   "id": "a94c48d4",
   "metadata": {},
   "source": [
    "# Basic Data Types"
   ]
  },
  {
   "cell_type": "markdown",
   "id": "4078fb9d",
   "metadata": {},
   "source": [
    "## Numeric"
   ]
  },
  {
   "cell_type": "markdown",
   "id": "bc980e84",
   "metadata": {},
   "source": [
    "### Integer"
   ]
  },
  {
   "cell_type": "markdown",
   "id": "4e6951d8",
   "metadata": {},
   "source": [
    "- <font size=\"3\">An integer (<span style=\"color: blue;\"><b>int</b></span>) is a whole number without commas that could hold a zero, positive or negative value</font>\n",
    "- <font size=3>Operation is a way to perform on values to produce other values</font>\n",
    "- <font size=3>Expression consists of operands (value) and operators (symbol)</font>\n",
    "- <font size=3>Standard Arithmetic</font>\n",
    "    - <font size=3>Operators: addition(+), subtraction (-), multiplication (*), division (/), and remainder or modulo (%)</font>\n",
    "- <font size=3>Compare</font>\n",
    "    - <font size=3>Operators: ==, >, <, >=, <=, !=</font>"
   ]
  },
  {
   "cell_type": "code",
   "execution_count": 1,
   "id": "c702ce4b",
   "metadata": {},
   "outputs": [
    {
     "data": {
      "text/plain": [
       "25"
      ]
     },
     "execution_count": 1,
     "metadata": {},
     "output_type": "execute_result"
    }
   ],
   "source": [
    "25"
   ]
  },
  {
   "cell_type": "code",
   "execution_count": null,
   "id": "851d3524",
   "metadata": {},
   "outputs": [],
   "source": [
    "-23"
   ]
  },
  {
   "cell_type": "code",
   "execution_count": null,
   "id": "eaee4f48",
   "metadata": {},
   "outputs": [],
   "source": [
    "0"
   ]
  },
  {
   "cell_type": "code",
   "execution_count": null,
   "id": "1cdd0fb0",
   "metadata": {},
   "outputs": [],
   "source": [
    "type(25)"
   ]
  },
  {
   "cell_type": "code",
   "execution_count": null,
   "id": "7ed0d87e",
   "metadata": {},
   "outputs": [],
   "source": [
    "12+15"
   ]
  },
  {
   "cell_type": "code",
   "execution_count": null,
   "id": "ba801f2c",
   "metadata": {},
   "outputs": [],
   "source": [
    "10-3"
   ]
  },
  {
   "cell_type": "code",
   "execution_count": null,
   "id": "34c7d7a1",
   "metadata": {},
   "outputs": [],
   "source": [
    "5*3"
   ]
  },
  {
   "cell_type": "code",
   "execution_count": null,
   "id": "87c27baa",
   "metadata": {},
   "outputs": [],
   "source": [
    "8/4"
   ]
  },
  {
   "cell_type": "code",
   "execution_count": null,
   "id": "d704f3f5",
   "metadata": {},
   "outputs": [],
   "source": [
    "9%3"
   ]
  },
  {
   "cell_type": "code",
   "execution_count": null,
   "id": "bac85abf",
   "metadata": {},
   "outputs": [],
   "source": [
    "10 == 10"
   ]
  },
  {
   "cell_type": "code",
   "execution_count": null,
   "id": "e94e0e4a",
   "metadata": {},
   "outputs": [],
   "source": [
    "3 > 6"
   ]
  },
  {
   "cell_type": "code",
   "execution_count": null,
   "id": "444a4ca3",
   "metadata": {},
   "outputs": [],
   "source": [
    "30 <= 30"
   ]
  },
  {
   "cell_type": "markdown",
   "id": "27fc66c4",
   "metadata": {},
   "source": [
    "### Float"
   ]
  },
  {
   "cell_type": "markdown",
   "id": "5345f496",
   "metadata": {},
   "source": [
    "- <font size=3>Float (<span style=\"color: blue;\"><b>float</b></span>) represents real numbers which are numbers containing a decimal point</font>"
   ]
  },
  {
   "cell_type": "code",
   "execution_count": null,
   "id": "2a11bb2b",
   "metadata": {},
   "outputs": [],
   "source": [
    "25.33"
   ]
  },
  {
   "cell_type": "code",
   "execution_count": null,
   "id": "448cc40c",
   "metadata": {},
   "outputs": [],
   "source": [
    "-45.2424"
   ]
  },
  {
   "cell_type": "code",
   "execution_count": null,
   "id": "cfd6f2a4",
   "metadata": {},
   "outputs": [],
   "source": [
    "type(25.33)"
   ]
  },
  {
   "cell_type": "code",
   "execution_count": null,
   "id": "00c4ccbc",
   "metadata": {},
   "outputs": [],
   "source": [
    "25.33 + 45.2424"
   ]
  },
  {
   "cell_type": "code",
   "execution_count": null,
   "id": "bd162623",
   "metadata": {},
   "outputs": [],
   "source": [
    "25.33 >= 45.2424"
   ]
  },
  {
   "cell_type": "markdown",
   "id": "1b4c47df",
   "metadata": {},
   "source": [
    "### Complex\n",
    "- <font size=\"3\">An complex number is represented by “x + yj” where x and y are real numbers and j is an imaginary number which is the square root of -1.\n",
    "</font>"
   ]
  },
  {
   "cell_type": "code",
   "execution_count": null,
   "id": "7c19edf7",
   "metadata": {},
   "outputs": [],
   "source": [
    "3+5j"
   ]
  },
  {
   "cell_type": "code",
   "execution_count": null,
   "id": "7c9b5ef6",
   "metadata": {},
   "outputs": [],
   "source": [
    "-5j"
   ]
  },
  {
   "cell_type": "markdown",
   "id": "c66801e1",
   "metadata": {},
   "source": [
    "## Character and String"
   ]
  },
  {
   "cell_type": "markdown",
   "id": "e372ada5",
   "metadata": {},
   "source": [
    "- <font size=3>A character is a single letter or symbol in a single quotation</font>\n",
    "- <font size=3>String represents a sequence of characters (text) inside double or single quotes</font>\n",
    "- <font size=3>Concatenation (+): join two or more strings to form a new string\n",
    "</font>\n",
    "- <font size=3>Repetition (*): build a string by repeating another string/symbol a given number of times</font>"
   ]
  },
  {
   "cell_type": "code",
   "execution_count": null,
   "id": "0e95406b",
   "metadata": {},
   "outputs": [],
   "source": [
    "'a'"
   ]
  },
  {
   "cell_type": "code",
   "execution_count": null,
   "id": "89d7c4c5",
   "metadata": {},
   "outputs": [],
   "source": [
    "'@'"
   ]
  },
  {
   "cell_type": "code",
   "execution_count": null,
   "id": "bc8fbb56",
   "metadata": {},
   "outputs": [],
   "source": [
    "\"Hello Python\""
   ]
  },
  {
   "cell_type": "code",
   "execution_count": null,
   "id": "a102347a",
   "metadata": {},
   "outputs": [],
   "source": [
    "'Hello'"
   ]
  },
  {
   "cell_type": "code",
   "execution_count": null,
   "id": "6d61446c",
   "metadata": {},
   "outputs": [],
   "source": [
    "\"Hello, it's a message\""
   ]
  },
  {
   "cell_type": "code",
   "execution_count": null,
   "id": "ab87a172",
   "metadata": {},
   "outputs": [],
   "source": [
    "'Hello it\\'s a message'"
   ]
  },
  {
   "cell_type": "code",
   "execution_count": null,
   "id": "8290f6a5",
   "metadata": {},
   "outputs": [],
   "source": [
    "# Immutable\n",
    "\n",
    "msg = \"Hello Python\"\n",
    "\n",
    "msg[3] = 'p'"
   ]
  },
  {
   "cell_type": "code",
   "execution_count": null,
   "id": "fa7cd791",
   "metadata": {},
   "outputs": [],
   "source": [
    "\"Hello\"+\" \"+\"there,\"+\"Python!\" "
   ]
  },
  {
   "cell_type": "code",
   "execution_count": null,
   "id": "fd1d9a7b",
   "metadata": {},
   "outputs": [],
   "source": [
    "\"Hi\"*10"
   ]
  },
  {
   "cell_type": "code",
   "execution_count": null,
   "id": "4c06d21a",
   "metadata": {},
   "outputs": [],
   "source": [
    "\"❤\"*3"
   ]
  },
  {
   "cell_type": "markdown",
   "id": "5a8afe54",
   "metadata": {},
   "source": [
    "## Boolean"
   ]
  },
  {
   "cell_type": "markdown",
   "id": "d3714218",
   "metadata": {},
   "source": [
    "- <font size=3>Booleans are used to represent truth values with two constant objects <span style=\"color: blue;\">True</span> and <span style=\"color: blue;\">False</span></font>"
   ]
  },
  {
   "cell_type": "code",
   "execution_count": null,
   "id": "a011a034",
   "metadata": {},
   "outputs": [],
   "source": [
    "True"
   ]
  },
  {
   "cell_type": "code",
   "execution_count": null,
   "id": "ce0283ea",
   "metadata": {},
   "outputs": [],
   "source": [
    "type(True)"
   ]
  },
  {
   "cell_type": "code",
   "execution_count": null,
   "id": "b86447f9",
   "metadata": {},
   "outputs": [],
   "source": [
    "False"
   ]
  },
  {
   "cell_type": "code",
   "execution_count": null,
   "id": "d5263203",
   "metadata": {},
   "outputs": [],
   "source": [
    "type(False)"
   ]
  },
  {
   "cell_type": "markdown",
   "id": "94614448",
   "metadata": {},
   "source": [
    "## Escape Sequences"
   ]
  },
  {
   "cell_type": "markdown",
   "id": "2236c5ec",
   "metadata": {},
   "source": [
    "- <font size=3>Escape Sequences is a special character sequences to control how to display string. These sequences consist of two or more characters and begin with a back slash (\\\\)\n",
    "</font>"
   ]
  },
  {
   "attachments": {
    "Escape_Sequence.PNG": {
     "image/png": "[encoded data removed]"
    }
   },
   "cell_type": "markdown",
   "id": "bd979c7a",
   "metadata": {},
   "source": [
    "![Escape_Sequence.PNG](attachment:Escape_Sequence.PNG)"
   ]
  },
  {
   "cell_type": "markdown",
   "id": "99e0fbe1",
   "metadata": {},
   "source": [
    "## Comments"
   ]
  },
  {
   "cell_type": "markdown",
   "id": "4ad53d0d",
   "metadata": {},
   "source": [
    "- <font size =3>A piece of program text that the computer ignores but that provides useful documentation to programmers</font>\n",
    "- <font size =3>In python, use ‘#’ follow by a sentence</font>\n",
    "- <font size =3>Docstring: a multi-line string inside the triple quote (\"\"\") </font>"
   ]
  },
  {
   "cell_type": "code",
   "execution_count": null,
   "id": "d2939557",
   "metadata": {
    "scrolled": true
   },
   "outputs": [],
   "source": [
    "\"\"\"\n",
    "Program: convertLength.py\n",
    "Author: Jarutas Andritsch\n",
    "Last date modified: 20/06/22\n",
    "The purpose of this program is to convert the length in meters to feet. The input is an integer \n",
    "or floating-point number representing the wire length in meters. The output is a floating-point \n",
    "number labeled as the wire length in feet.\n",
    "\"\"\"\n",
    "\n",
    "# length in meters\n",
    "100\n",
    "\n",
    "# convert ratio\n",
    "3.281\n",
    "\n",
    "# length in feet from meters\n",
    "100*3.281"
   ]
  },
  {
   "cell_type": "markdown",
   "id": "1ef78a15",
   "metadata": {},
   "source": [
    "# Data Collection Types"
   ]
  },
  {
   "cell_type": "markdown",
   "id": "921e2eb8",
   "metadata": {},
   "source": [
    "## Lists\n",
    "\n",
    "- <font size=\"3\">List is an ordered collection of similar or different types of items separated by commas and enclosed within brackets [ ].</font>\n",
    "- <font size=\"3\">List is mutable meaning the values of items in list can be changed or altered once defined.</font>\n",
    "- <font size=\"3\">Items in a list can be indexed and sliced.\n",
    "</font>"
   ]
  },
  {
   "cell_type": "code",
   "execution_count": null,
   "id": "7a8568a7",
   "metadata": {},
   "outputs": [],
   "source": [
    "i = ['a',3,6,'e']\n",
    "j = [[1,2],3,4]"
   ]
  },
  {
   "cell_type": "code",
   "execution_count": null,
   "id": "6f261757",
   "metadata": {},
   "outputs": [],
   "source": [
    "print(i)\n",
    "print(j)"
   ]
  },
  {
   "cell_type": "code",
   "execution_count": null,
   "id": "1b1cc4d1",
   "metadata": {},
   "outputs": [],
   "source": [
    "# Mutable\n",
    "i[0] = 'T'\n",
    "print(i)"
   ]
  },
  {
   "cell_type": "code",
   "execution_count": null,
   "id": "ddd48e4c",
   "metadata": {},
   "outputs": [],
   "source": [
    "# indexing\n",
    "i[2]"
   ]
  },
  {
   "cell_type": "markdown",
   "id": "36902d92",
   "metadata": {},
   "source": [
    "## Dictionaries\n",
    "\n",
    "- <font size=\"3\">Dictionary is a sequence of data of key-value pair form. </font>\n",
    "- <font size=\"3\">Dictionaries are written within curly braces in the form {key:value}.</font>\n",
    "- <font size=\"3\">keys are unique identifiers that are associated with each value.</font>\n",
    "- <font size=\"3\">It is very useful to retrieve data in an optimized way among a large amount of data.\n",
    "</font>"
   ]
  },
  {
   "cell_type": "code",
   "execution_count": null,
   "id": "4b5a9b62",
   "metadata": {},
   "outputs": [],
   "source": [
    "k = {\n",
    "    'k1': 123,\n",
    "    'k2': \"abc\",\n",
    "    'k3': [1,2,3],\n",
    "    'k4': {\"insidekey\": 100}\n",
    "    }"
   ]
  },
  {
   "cell_type": "code",
   "execution_count": null,
   "id": "6ca704f4",
   "metadata": {},
   "outputs": [],
   "source": [
    "print(k)"
   ]
  },
  {
   "cell_type": "code",
   "execution_count": null,
   "id": "aaa7b27e",
   "metadata": {},
   "outputs": [],
   "source": [
    "print(k['k2'])"
   ]
  },
  {
   "cell_type": "markdown",
   "id": "15d3eaa6",
   "metadata": {},
   "source": [
    "## Tuples\n",
    "\n",
    "- <font size =\"3\">The tuple is an ordered sequence of items same as a list. </font>\n",
    "- <font size =\"3\">It is immutable. That means data in a tuple is write-protected, once created cannot be modified.</font>\n",
    "- <font size =\"3\">Data in a tuple is written using parenthesis and commas.</font>"
   ]
  },
  {
   "cell_type": "code",
   "execution_count": null,
   "id": "db978ee5",
   "metadata": {},
   "outputs": [],
   "source": [
    "l = (1, 'a','b')"
   ]
  },
  {
   "cell_type": "code",
   "execution_count": null,
   "id": "a65e3324",
   "metadata": {},
   "outputs": [],
   "source": [
    "print(l)"
   ]
  },
  {
   "cell_type": "code",
   "execution_count": null,
   "id": "11e7ca57",
   "metadata": {},
   "outputs": [],
   "source": [
    "l[0] = 2"
   ]
  },
  {
   "cell_type": "code",
   "execution_count": null,
   "id": "28e646a2",
   "metadata": {},
   "outputs": [],
   "source": [
    "# indexing\n",
    "l[2]"
   ]
  },
  {
   "cell_type": "markdown",
   "id": "c13bc202",
   "metadata": {},
   "source": [
    "## Sets\n",
    "\n",
    "- <font size=\"3\">Set is an unordered collection of unique items. </font>\n",
    "- <font size=\"3\">Set is defined by values separated by commas inside braces { }. </font>\n",
    "- <font size=\"3\">Since sets are unordered collections, indexing has no meaning. Hence, the slicing operator and indexing does not work.</font>"
   ]
  },
  {
   "cell_type": "code",
   "execution_count": null,
   "id": "0ef57421",
   "metadata": {},
   "outputs": [],
   "source": [
    "m = {1,2,3,'e',1}"
   ]
  },
  {
   "cell_type": "code",
   "execution_count": null,
   "id": "b1c913c8",
   "metadata": {},
   "outputs": [],
   "source": [
    "print(m)"
   ]
  },
  {
   "cell_type": "code",
   "execution_count": null,
   "id": "6cc63988",
   "metadata": {},
   "outputs": [],
   "source": [
    "#indexing\n",
    "m[2]"
   ]
  },
  {
   "cell_type": "markdown",
   "id": "30e40682",
   "metadata": {},
   "source": [
    "***"
   ]
  },
  {
   "cell_type": "markdown",
   "id": "b79ca7cc",
   "metadata": {},
   "source": [
    "# Variable"
   ]
  },
  {
   "cell_type": "markdown",
   "id": "1c847a28",
   "metadata": {},
   "source": [
    "- <font size=3>Variables are containers for storing data values</font>\n",
    "- <font size=3>Variables have three important characteristics</font>\n",
    "    - <font size=3>A name</font>\n",
    "    - <font size=3>A corresponding memory location where data can be stored</font>\n",
    "    - <font size=3>Changeable (mutable) value</font>\n",
    "- <font size=3>You can refer to the value by the variable name</font>\n",
    "- <font size=\"3\">You can assign variable a value and then start using it. Assignment is done with a single equals sign (=):"
   ]
  },
  {
   "cell_type": "code",
   "execution_count": null,
   "id": "fffcb395",
   "metadata": {},
   "outputs": [],
   "source": [
    "meters = 100"
   ]
  },
  {
   "cell_type": "code",
   "execution_count": null,
   "id": "3317d9e8",
   "metadata": {},
   "outputs": [],
   "source": [
    "type(meters)"
   ]
  },
  {
   "cell_type": "code",
   "execution_count": null,
   "id": "f77f6330",
   "metadata": {},
   "outputs": [],
   "source": [
    "ratio = 2.5"
   ]
  },
  {
   "cell_type": "code",
   "execution_count": null,
   "id": "f0174bd9",
   "metadata": {},
   "outputs": [],
   "source": [
    "feets = meters * ratio"
   ]
  },
  {
   "cell_type": "code",
   "execution_count": null,
   "id": "a64c0d2c",
   "metadata": {},
   "outputs": [],
   "source": [
    "feets"
   ]
  },
  {
   "cell_type": "markdown",
   "id": "d2e75663",
   "metadata": {},
   "source": [
    "## General variable naming conventions (Rules for Nomenclature)"
   ]
  },
  {
   "cell_type": "markdown",
   "id": "3d70974b",
   "metadata": {},
   "source": [
    "- <font size=3>In Python, you **cannot** use reserved words (language's built-in functions) such as <span style=\"color: green;\">print</span>, <span style=\"color: green;\">if</span>, <span style=\"color: green;\">def</span>, and <span style=\"color: green;\">import</span>. In cell, the reserved words will display with gree colour font</font>\n",
    "- <font size=3>Names should be descriptive</font>\n",
    "- <font size=3>Python variable names must start with a letter or an underscore</font>\n",
    "- <font size=3>Name can contain any number of letters, digits, or _</font>\n",
    "- <font size=3>Python has no command for declaring a variable. A variable is created the moment you first assign a value to it</font>"
   ]
  },
  {
   "cell_type": "code",
   "execution_count": null,
   "id": "ff54e3dd",
   "metadata": {},
   "outputs": [],
   "source": [
    "weight =45.0"
   ]
  },
  {
   "cell_type": "code",
   "execution_count": null,
   "id": "e1ae6e83",
   "metadata": {},
   "outputs": [],
   "source": [
    "exam_score = 100"
   ]
  },
  {
   "cell_type": "code",
   "execution_count": null,
   "id": "ab5c2b73",
   "metadata": {},
   "outputs": [],
   "source": [
    "# It should not start with a nunber\n",
    "1level = 2\n",
    "print(1level)"
   ]
  },
  {
   "cell_type": "code",
   "execution_count": null,
   "id": "a0163373",
   "metadata": {},
   "outputs": [],
   "source": [
    "# Variable can start with a letter or underscore then follow by a number\n",
    "_number = 8\n",
    "\n",
    "print(_number)"
   ]
  },
  {
   "cell_type": "code",
   "execution_count": null,
   "id": "c4466c9b",
   "metadata": {},
   "outputs": [],
   "source": [
    "# No special characters are allowed in the variable name\n",
    "captial@UK = \"London\"\n",
    "\n",
    "print(captial@UK)"
   ]
  },
  {
   "cell_type": "code",
   "execution_count": null,
   "id": "a5bd23e1",
   "metadata": {},
   "outputs": [],
   "source": [
    "# Variable name is case-sensitive in Python\n",
    "language = \"Python\"\n",
    "Language = \"Java\"\n",
    "\n",
    "print(language, Language)"
   ]
  },
  {
   "cell_type": "code",
   "execution_count": null,
   "id": "a425e81d",
   "metadata": {},
   "outputs": [],
   "source": [
    "# No reserved keyword as a variable name in python\n",
    "for = 2\n",
    "print(for)"
   ]
  },
  {
   "cell_type": "markdown",
   "id": "43027a7e",
   "metadata": {},
   "source": [
    "### Combining words for variable names"
   ]
  },
  {
   "cell_type": "markdown",
   "id": "a5eed341",
   "metadata": {},
   "source": [
    "- <font size=3>**Camel case** begins with a lowercase letter, but each subsequent word is capitalized</font>"
   ]
  },
  {
   "cell_type": "code",
   "execution_count": null,
   "id": "1d8fad82",
   "metadata": {},
   "outputs": [],
   "source": [
    "firstName = \"Jarutas\""
   ]
  },
  {
   "cell_type": "markdown",
   "id": "1454eee6",
   "metadata": {},
   "source": [
    "- <font size=3>**Pascal case** Identical to Camel Case, except the first word is also capitalised</font>"
   ]
  },
  {
   "cell_type": "code",
   "execution_count": null,
   "id": "ebe17921",
   "metadata": {},
   "outputs": [],
   "source": [
    "FirstName = \"Jarutas\""
   ]
  },
  {
   "cell_type": "markdown",
   "id": "4ae76b7a",
   "metadata": {},
   "source": [
    "- <font size=3>**Snake case** uses all lowercase and separates words with an underscore</font>"
   ]
  },
  {
   "cell_type": "code",
   "execution_count": null,
   "id": "9ac6bf70",
   "metadata": {},
   "outputs": [],
   "source": [
    "last_name = \"Andritsch\""
   ]
  },
  {
   "cell_type": "code",
   "execution_count": null,
   "id": "00dd2f39",
   "metadata": {},
   "outputs": [],
   "source": [
    "programmingForProblemSolving =728"
   ]
  },
  {
   "cell_type": "code",
   "execution_count": null,
   "id": "7132f05d",
   "metadata": {},
   "outputs": [],
   "source": [
    "programing_for_problem_solving = 728"
   ]
  },
  {
   "cell_type": "markdown",
   "id": "971ffb65",
   "metadata": {},
   "source": [
    "- <font size=3>**The Style Guide for Python Code (PEP 8) suggested the following recommendations:** </font> \n",
    "    - <font size =\"3\">Snake Case should be used for <b>functions</b> and <b>variable</b> names</font>\n",
    "    - <font size =\"3\">Pascal Case should be used for <b>class</b> names. (PEP 8 refers to this as the “CapWords” convention.)</font>"
   ]
  },
  {
   "cell_type": "markdown",
   "id": "db6ef9a1",
   "metadata": {},
   "source": [
    "## Multiple Assignment"
   ]
  },
  {
   "cell_type": "markdown",
   "id": "dc21b4c6",
   "metadata": {},
   "source": [
    "### Assigning a single value to multiple variables at one time"
   ]
  },
  {
   "cell_type": "code",
   "execution_count": null,
   "id": "ce72f1d5",
   "metadata": {},
   "outputs": [],
   "source": [
    "a = b = c = 1"
   ]
  },
  {
   "cell_type": "code",
   "execution_count": null,
   "id": "78c62623",
   "metadata": {},
   "outputs": [],
   "source": [
    "print(a, b, c)"
   ]
  },
  {
   "cell_type": "markdown",
   "id": "ee9c0e16",
   "metadata": {},
   "source": [
    "### Assigning multiple values to multiple variables at a same time"
   ]
  },
  {
   "cell_type": "code",
   "execution_count": null,
   "id": "dc053d16",
   "metadata": {},
   "outputs": [],
   "source": [
    "x, y, z = \"Orange\", \"Banana\", \"Cherry\""
   ]
  },
  {
   "cell_type": "code",
   "execution_count": null,
   "id": "473cff5b",
   "metadata": {},
   "outputs": [],
   "source": [
    "print(x,y,z)"
   ]
  },
  {
   "cell_type": "markdown",
   "id": "261227ee",
   "metadata": {},
   "source": [
    "### Unpacking using variables"
   ]
  },
  {
   "cell_type": "code",
   "execution_count": null,
   "id": "a363e847",
   "metadata": {},
   "outputs": [],
   "source": [
    "fruits = [\"apple\", \"banana\", \"cherry\"]\n",
    "x, y, z = fruits"
   ]
  },
  {
   "cell_type": "code",
   "execution_count": null,
   "id": "c4a4a07d",
   "metadata": {},
   "outputs": [],
   "source": [
    "print(x,y,z)"
   ]
  },
  {
   "cell_type": "markdown",
   "id": "0fd32787",
   "metadata": {},
   "source": [
    "***"
   ]
  },
  {
   "cell_type": "markdown",
   "id": "ba442aad",
   "metadata": {},
   "source": [
    "# Basic Input and Output"
   ]
  },
  {
   "cell_type": "markdown",
   "id": "b1c3f470",
   "metadata": {},
   "source": [
    "## Output"
   ]
  },
  {
   "cell_type": "markdown",
   "id": "fb706f80",
   "metadata": {},
   "source": [
    "- <font size=3>Sending out data to standard output (a text stream on screen</font>\n",
    "- <font size=3>The communication channel with the users</font>\n",
    "- <font size=3>In python, there is a built-in function <span style=\"color: green;\">print</span> to display characters on the screen</font>\n",
    "- <font size=\"3\"><b>Syntax:</b></font><br>\n",
    "&emsp;&emsp;&emsp;&emsp;<font size=\"3\"> <span style=\"color: green;\"><b>print</b></span>(variable/message)"
   ]
  },
  {
   "cell_type": "code",
   "execution_count": null,
   "id": "b9b96b4b",
   "metadata": {},
   "outputs": [],
   "source": [
    "# Display message to standard output\n",
    "print(\"Hello, Python\")"
   ]
  },
  {
   "cell_type": "code",
   "execution_count": null,
   "id": "4510b84b",
   "metadata": {},
   "outputs": [],
   "source": [
    "# Display multiple line message\n",
    "print(\"\"\"\n",
    "Python is a widely-used general-purpose, high-level programming language. \n",
    "It was initially designed by Guido van Rossum in 1991 and developed by \n",
    "Python Software Foundation.\n",
    "\"\"\")"
   ]
  },
  {
   "cell_type": "code",
   "execution_count": null,
   "id": "b475b161",
   "metadata": {},
   "outputs": [],
   "source": [
    "# Display value in a variable\n",
    "result = 5*20\n",
    "print(result)"
   ]
  },
  {
   "cell_type": "markdown",
   "id": "62fcc075",
   "metadata": {},
   "source": [
    "### Formatting output"
   ]
  },
  {
   "cell_type": "markdown",
   "id": "c8bb6ccf",
   "metadata": {},
   "source": [
    "- <font size=3>Formatted string literals also called **f-string** for short let you include the value of python expression inside a string by prefixing the string with **f** or **F** and writing python expression</font>\n",
    "- <font size=3>Format specifiers for types, padding, or aligning are specified after the colon character</font>\n",
    "- <font size=\"3\"><b>Syntax:</b></font><br>\n",
    "&emsp;&emsp;&emsp;&emsp;<font size=\"3\"> <span style=\"color: green;\"><b>print</b></span>(<span style=\"color: red;\">f</span>\"string{value or variable: format specifiers}\")"
   ]
  },
  {
   "cell_type": "code",
   "execution_count": null,
   "id": "850152b5",
   "metadata": {},
   "outputs": [],
   "source": [
    "# Display value using formatted string\n",
    "name = \"Jarutas Andritsch\"\n",
    "\n",
    "print(f\"Hello {name}, nice to meet you\")\n",
    "print(\"Welcome to Solent\")"
   ]
  },
  {
   "cell_type": "code",
   "execution_count": null,
   "id": "ccae6376",
   "metadata": {},
   "outputs": [],
   "source": [
    "#Alignment output: Left-justify, center, right-justify\n",
    "message = \"python\"\n",
    "\n",
    "print(f\"right-justify: {message:*>8}\")\n",
    "print(f\"center: {message:*^10}\")\n",
    "print(f\"left-justify: {message:*<10}\")"
   ]
  },
  {
   "cell_type": "markdown",
   "id": "162f57e7",
   "metadata": {},
   "source": [
    "- <font size=3>By default, the print function adds a new line (\\n) to the end of a line</font>\n",
    "- <font size=3>However, by using **end=\"\"** we have specified that an empty string (\"\") should be added to the end of the printed line instead of a new line (\\n)</font>\n",
    "- <font size=\"3\"><b>Syntax:</b></font><br>\n",
    "&emsp;&emsp;&emsp;&emsp;<font size=\"3\"> <span style=\"color: green;\"><b>print</b></span>(<span style=\"color: red;\">f</span>\"string{expression}\", end=\"\")"
   ]
  },
  {
   "cell_type": "code",
   "execution_count": null,
   "id": "5e5bd5c7",
   "metadata": {},
   "outputs": [],
   "source": [
    "# Display value using formatted string in a same line\n",
    "name = \"Jarutas Andritsch\"\n",
    "occupation = \"Lecturer\"\n",
    "\n",
    "print(f\"My name is {name} \", end=\"\")\n",
    "print(f\"I'm a {occupation} at Solent University\")"
   ]
  },
  {
   "cell_type": "markdown",
   "id": "c9b3e450",
   "metadata": {},
   "source": [
    "### Formatting Output: Numeric"
   ]
  },
  {
   "cell_type": "code",
   "execution_count": 2,
   "id": "2fe16025",
   "metadata": {},
   "outputs": [
    {
     "name": "stdout",
     "output_type": "stream",
     "text": [
      "Original value of integer: 100\n",
      "Integer value with the 10 digits width:        100\n",
      "Original value of average: 4.430500\n",
      "Three decimal places: 4.431\n",
      "Width of 9 digits with three decimal places:     4.431\n"
     ]
    }
   ],
   "source": [
    "integer = 100\n",
    "average = 4.43050\n",
    "\n",
    "# Display integer with formatting parameters\n",
    "print(f\"Original value of integer: {integer:d}\")\n",
    "print(f\"Integer value with the 10 digits width: {integer:10d}\")\n",
    "\n",
    "# Display floating point with formatting parameters\n",
    "print(f\"Original value of average: {average:f}\")\n",
    "print(f\"Three decimal places: {average:.3f}\")\n",
    "print(f\"Width of 9 digits with three decimal places: {average:9.3f}\")"
   ]
  },
  {
   "cell_type": "markdown",
   "id": "7adfd883",
   "metadata": {},
   "source": [
    "## Input"
   ]
  },
  {
   "cell_type": "markdown",
   "id": "501537b3",
   "metadata": {},
   "source": [
    "- <font size=3>Receive data from a user to a variable</font>\n",
    "- <font size=3>Python allows us to read user input using the built-in function <span style=\"color: green;\">input</span></font>\n",
    "- <font size=\"3\"><b>Syntax:</b></font><br>\n",
    "&emsp;&emsp;&emsp;&emsp;<font size=\"3\"> variable = <span style=\"color: green;\"><b>input</b></span>(\"string prompt\"\")\n",
    "- <font size=3>The input function always builds a string from the user’s keystrokes and returns it to the program</font>\n",
    "    - <font size=3>Strings that represent numbers must be converted from strings to appropriate number types\n",
    ", you can use <span style=\"color: green;\">int()</span> or <span style=\"color: green;\">float()</span> function to convert string to integer or float</font>\n",
    "    - <font size=\"3\"><b>Format:</b></font><br>\n",
    "&emsp;&emsp;&emsp;&emsp;<font size=\"3\">variable = <span style=\"color: green;\"><b>int(input</b></span> (\"string prompt\")<span style=\"color: green;\"><b>)</b></span><br> or <br>\n",
    "    &emsp;&emsp;&emsp;&emsp;<font size=\"3\">variable = <span style=\"color: green;\"><b>float(input</b></span> (\"string prompt\")<span style=\"color: green;\"><b>)</b></span>"
   ]
  },
  {
   "cell_type": "code",
   "execution_count": null,
   "id": "a67d1d21",
   "metadata": {},
   "outputs": [],
   "source": [
    "name = input()"
   ]
  },
  {
   "cell_type": "code",
   "execution_count": null,
   "id": "83f55729",
   "metadata": {},
   "outputs": [],
   "source": [
    "name =input(\"Enter your name:\")"
   ]
  },
  {
   "cell_type": "code",
   "execution_count": null,
   "id": "4bf9dd1c",
   "metadata": {},
   "outputs": [],
   "source": [
    "#Read in a user's name\n",
    "name = input(\"What is your name: \")\n",
    "\n",
    "print(f\"It is nice to meet you, {name}\")"
   ]
  },
  {
   "cell_type": "code",
   "execution_count": null,
   "id": "6d8f8c91",
   "metadata": {},
   "outputs": [],
   "source": [
    "age = float(input(\"Enter your age: \"))"
   ]
  },
  {
   "cell_type": "code",
   "execution_count": null,
   "id": "64cb12c9",
   "metadata": {},
   "outputs": [],
   "source": [
    "type(age)"
   ]
  },
  {
   "cell_type": "code",
   "execution_count": null,
   "id": "fadd0aad",
   "metadata": {},
   "outputs": [],
   "source": [
    "print(f\"Your age in the next 5 years is {age+5}\")"
   ]
  },
  {
   "cell_type": "code",
   "execution_count": null,
   "id": "cc0f71e4",
   "metadata": {},
   "outputs": [],
   "source": [
    "#Read in user's data and convert to proper data type and display the result\n",
    "weight = float(input(\"Enter your weight (kg): \"))\n",
    "height = float(input(\"Enter your height (meters): \"))\n",
    "\n",
    "bmi = weight/(height*height)\n",
    "print(f\"Your BMI is {bmi:.2f}\")"
   ]
  },
  {
   "cell_type": "markdown",
   "id": "d3b8d64c",
   "metadata": {},
   "source": [
    "***"
   ]
  },
  {
   "cell_type": "markdown",
   "id": "e6ba030d",
   "metadata": {},
   "source": [
    "# Summary"
   ]
  },
  {
   "cell_type": "markdown",
   "id": "05106e09",
   "metadata": {},
   "source": [
    "- <font size=3>int and float is a numeric data types</font>\n",
    "- <font size=3>String data types is used to represent text for input and output\n",
    "</font>\n",
    "- <font size=3>Comments are pieces of code not evaluated by the interpreter but can be read by programmers to obtain information about a program</font>\n",
    "- <font size=3>Variables are names that refer to values\n",
    "</font>\n",
    "- <font size=3>Python built-in function input() uses for receive data from keyboard</font>\n",
    "- <font size=3>Python built-in function print() uses for display data to text stream on screen</font>"
   ]
  },
  {
   "cell_type": "markdown",
   "id": "303a08b4",
   "metadata": {},
   "source": [
    "***"
   ]
  }
 ],
 "metadata": {
  "kernelspec": {
   "display_name": "Python 3 (ipykernel)",
   "language": "python",
   "name": "python3"
  },
  "language_info": {
   "codemirror_mode": {
    "name": "ipython",
    "version": 3
   },
   "file_extension": ".py",
   "mimetype": "text/x-python",
   "name": "python",
   "nbconvert_exporter": "python",
   "pygments_lexer": "ipython3",
   "version": "3.11.4"
  }
 },
 "nbformat": 4,
 "nbformat_minor": 5
}
