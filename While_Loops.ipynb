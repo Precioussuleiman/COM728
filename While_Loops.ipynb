{
 "cells": [
  {
   "cell_type": "markdown",
   "id": "f393b9bd",
   "metadata": {},
   "source": [
    "simple_loop"
   ]
  },
  {
   "cell_type": "code",
   "execution_count": 2,
   "id": "ff40c968",
   "metadata": {},
   "outputs": [
    {
     "name": "stdout",
     "output_type": "stream",
     "text": [
      "How many cables should i remove?7\n",
      "Removed Cable\n",
      "Removed Cable\n",
      "Removed Cable\n",
      "Removed Cable\n",
      "Removed Cable\n",
      "Removed Cable\n",
      "Removed Cable\n"
     ]
    }
   ],
   "source": [
    "number_of_cables = int(input (\"How many cables should i remove?\"))\n",
    "cables_removed = 0\n",
    "   \n",
    "\n",
    "while cables_removed < number_of_cables:\n",
    "    print(\"Removed Cable\")\n",
    "    cables_removed = cables_removed + 1"
   ]
  },
  {
   "cell_type": "markdown",
   "id": "f2c8b26a",
   "metadata": {},
   "source": [
    "Activity 2: Count\n"
   ]
  },
  {
   "cell_type": "code",
   "execution_count": 5,
   "id": "4a0b3ab7",
   "metadata": {},
   "outputs": [
    {
     "name": "stdout",
     "output_type": "stream",
     "text": [
      "How many Live cables must i avoid?3\n",
      "Avoiding.......Done! 1 live cable avoided!\n",
      "Avoiding.......Done! 2 live cable avoided!\n",
      "Avoiding.......Done! 3 live cable avoided!\n",
      "All live cables have been avoided.\n"
     ]
    }
   ],
   "source": [
    "#take user's input\n",
    "\n",
    "cables_to_avoid = int(input(\"How many Live cables must i avoid?\"))\n",
    "live_cables = 0\n",
    "\n",
    "while live_cables < cables_to_avoid:\n",
    "    print(\"Avoiding....\", end=\"\")\n",
    "    live_cables = live_cables + 1\n",
    "    print (f\"...Done! {live_cables} live cable avoided!\")\n",
    "print(\"All live cables have been avoided.\")"
   ]
  },
  {
   "cell_type": "markdown",
   "id": "52bfc0fd",
   "metadata": {},
   "source": [
    "sum_100"
   ]
  },
  {
   "cell_type": "code",
   "execution_count": null,
   "id": "f0723340",
   "metadata": {},
   "outputs": [],
   "source": [
    "print(\"calculating the sum of the first 100 numbers\")\n",
    "\n",
    "#condition\n",
    "\n",
    "count = 0\n",
    "sum = 0\n",
    "\n",
    "while count<= 100:\n",
    "\n",
    "    sum = sum + count\n",
    "    count = count + 1\n",
    "\n",
    "print (f\"The answer is {sum}\")"
   ]
  },
  {
   "cell_type": "markdown",
   "id": "f60f94d6",
   "metadata": {},
   "source": [
    "Sum_users_numbers"
   ]
  },
  {
   "cell_type": "code",
   "execution_count": 7,
   "id": "b8a84de2",
   "metadata": {},
   "outputs": [
    {
     "name": "stdout",
     "output_type": "stream",
     "text": [
      "How many numbers should i sum? 3\n",
      "Please enter number 0 of 3 4\n",
      "Please enter number 1 of 3 1\n",
      "Please enter number 2 of 3 1\n",
      "Please enter number 3 of 3 1\n",
      "The answer is: 7\n"
     ]
    }
   ],
   "source": [
    "#knowing the count of numbers to sum\n",
    "\n",
    "count = int(input(\"How many numbers should i sum? \"))\n",
    "\n",
    "checkers = 0\n",
    "sum = 0\n",
    "\n",
    "while checkers <= count:\n",
    "    num_sum = int(input(f\"Please enter number {checkers} of {count} \"))\n",
    "    checkers = checkers + 1\n",
    "    sum = sum + num_sum\n",
    "    \n",
    "print(f\"The answer is: {sum}\")    \n"
   ]
  },
  {
   "cell_type": "code",
   "execution_count": null,
   "id": "074f8ad5",
   "metadata": {},
   "outputs": [],
   "source": []
  }
 ],
 "metadata": {
  "kernelspec": {
   "display_name": "COM728",
   "language": "python",
   "name": "com728"
  },
  "language_info": {
   "codemirror_mode": {
    "name": "ipython",
    "version": 3
   },
   "file_extension": ".py",
   "mimetype": "text/x-python",
   "name": "python",
   "nbconvert_exporter": "python",
   "pygments_lexer": "ipython3",
   "version": "3.10.13"
  }
 },
 "nbformat": 4,
 "nbformat_minor": 5
}
