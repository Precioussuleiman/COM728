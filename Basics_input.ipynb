{
 "cells": [
  {
   "cell_type": "markdown",
   "id": "fbbc69e4",
   "metadata": {},
   "source": [
    "user_input"
   ]
  },
  {
   "cell_type": "code",
   "execution_count": 2,
   "id": "109dadaf",
   "metadata": {},
   "outputs": [
    {
     "name": "stdout",
     "output_type": "stream",
     "text": [
      "What is your name human?\n",
      "Preshi\n",
      "it is nice to meet you human Preshi\n"
     ]
    }
   ],
   "source": [
    "# Ask user to enter their name\n",
    "print (\"What is your name human?\")\n",
    "name = input()\n",
    "print (f\"it is nice to meet you human {name}\")"
   ]
  },
  {
   "cell_type": "code",
   "execution_count": 4,
   "id": "a4f2671a",
   "metadata": {},
   "outputs": [
    {
     "name": "stdout",
     "output_type": "stream",
     "text": [
      "What is your name human?preshi\n",
      "it is nice to meet you human preshi\n"
     ]
    }
   ],
   "source": [
    "# Read in user's name\n",
    "name = input (\"What is your name human?\")\n",
    "print (f\"it is nice to meet you human {name}\")"
   ]
  },
  {
   "cell_type": "markdown",
   "id": "83df5165",
   "metadata": {},
   "source": [
    "Data Type"
   ]
  },
  {
   "cell_type": "code",
   "execution_count": null,
   "id": "5deff314",
   "metadata": {},
   "outputs": [],
   "source": [
    "name = input (\"What is your name human?\")\n",
    "age = int(input (\"How old are you?\"))\n",
    "height = float(input(\"How tall are you?\"))\n",
    "weight = float(input (\"How much do you weigh?\"))\n",
    "bmi = weight/height**2\n",
    "print (f\" {name}, you are {age} years old and ypur bmi is {bmi:.2f}\")"
   ]
  },
  {
   "cell_type": "code",
   "execution_count": null,
   "id": "9734da6f",
   "metadata": {},
   "outputs": [],
   "source": []
  }
 ],
 "metadata": {
  "kernelspec": {
   "display_name": "COM728",
   "language": "python",
   "name": "com728"
  },
  "language_info": {
   "codemirror_mode": {
    "name": "ipython",
    "version": 3
   },
   "file_extension": ".py",
   "mimetype": "text/x-python",
   "name": "python",
   "nbconvert_exporter": "python",
   "pygments_lexer": "ipython3",
   "version": "3.10.13"
  }
 },
 "nbformat": 4,
 "nbformat_minor": 5
}
