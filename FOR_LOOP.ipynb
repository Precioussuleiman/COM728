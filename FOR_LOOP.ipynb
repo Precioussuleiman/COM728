{
 "cells": [
  {
   "cell_type": "markdown",
   "id": "9a30eb35",
   "metadata": {},
   "source": [
    "Count_down"
   ]
  },
  {
   "cell_type": "code",
   "execution_count": 5,
   "id": "dca14af4",
   "metadata": {},
   "outputs": [
    {
     "name": "stdout",
     "output_type": "stream",
     "text": [
      "How far are we from the cave? 4\n",
      "4 remaining!\n",
      "3 remaining!\n",
      "2 remaining!\n",
      "1 remaining!\n",
      "\n",
      "We have reached the cave!\n"
     ]
    }
   ],
   "source": [
    "#get input from user\n",
    "steps_left = int(input(\"How far are we from the cave? \"))\n",
    "\n",
    "#loop to display the remaining steps\n",
    "for i in range (steps_left):\n",
    "    print(f\"{steps_left} remaining!\")\n",
    "    steps_left = steps_left - 1\n",
    "print()    \n",
    "print (\"We have reached the cave!\")    \n",
    "\n"
   ]
  },
  {
   "cell_type": "markdown",
   "id": "474dcbf5",
   "metadata": {},
   "source": [
    "Range"
   ]
  },
  {
   "cell_type": "code",
   "execution_count": 13,
   "id": "5097b47c",
   "metadata": {},
   "outputs": [
    {
     "name": "stdout",
     "output_type": "stream",
     "text": [
      "What level of brightness is required?4\n",
      "\n",
      "Beep's brightness level{'*' * brightness}\n",
      "Bop's brightness level *{i}\n",
      "\n",
      "Adjustments complete!\n"
     ]
    }
   ],
   "source": [
    "brightness = int(input(\"What level of brightness is required?\"))\n",
    "print()\n",
    "for brightness in range (2,brightness,2):\n",
    "    print(\"Beep's brightness level{'*' * brightness}\")\n",
    "    print(\"Bop's brightness level *{i}\")\n",
    "print()          \n",
    "print(\"Adjustments complete!\")          "
   ]
  },
  {
   "cell_type": "code",
   "execution_count": null,
   "id": "4edc4603",
   "metadata": {},
   "outputs": [],
   "source": []
  }
 ],
 "metadata": {
  "kernelspec": {
   "display_name": "COM728",
   "language": "python",
   "name": "com728"
  },
  "language_info": {
   "codemirror_mode": {
    "name": "ipython",
    "version": 3
   },
   "file_extension": ".py",
   "mimetype": "text/x-python",
   "name": "python",
   "nbconvert_exporter": "python",
   "pygments_lexer": "ipython3",
   "version": "3.10.13"
  }
 },
 "nbformat": 4,
 "nbformat_minor": 5
}
