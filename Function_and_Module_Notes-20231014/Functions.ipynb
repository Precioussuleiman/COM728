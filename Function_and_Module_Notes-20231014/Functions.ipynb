{
 "cells": [
  {
   "cell_type": "markdown",
   "id": "74af416f",
   "metadata": {},
   "source": [
    "Activity: ascii_code"
   ]
  },
  {
   "cell_type": "code",
   "execution_count": 6,
   "id": "8c589f29",
   "metadata": {},
   "outputs": [
    {
     "name": "stdout",
     "output_type": "stream",
     "text": [
      "Program Started!\n",
      "Please enter a standard character: tyu\n",
      "Error: Kindly enter a character only!\n",
      "\n",
      "Program Ended!\n"
     ]
    }
   ],
   "source": [
    "print(\"Program Started!\")\n",
    "\n",
    "#getting character from user\n",
    "standard_char = input(\"Please enter a standard character: \")\n",
    "\n",
    "#checking to make sure user inputs one character\n",
    "\n",
    "if len(standard_char) == 1:\n",
    "    asci_code = ord(standard_char)\n",
    "    print(f\"The ASCII code for {standard_char} is {asci_code}\")\n",
    "else:\n",
    "    print(\"Error: Kindly enter a character only!\")\n",
    "    \n",
    "print()\n",
    "\n",
    "print(\"Program Ended!\")"
   ]
  },
  {
   "cell_type": "markdown",
   "id": "2169c086",
   "metadata": {},
   "source": [
    "Activity: ascii_character"
   ]
  },
  {
   "cell_type": "code",
   "execution_count": 9,
   "id": "3c22eca9",
   "metadata": {},
   "outputs": [
    {
     "name": "stdout",
     "output_type": "stream",
     "text": [
      "Program Started!\n",
      "Please enter an ASCI code: 679\n",
      "Error: Kindly enter correct ASCI Code!\n",
      "\n",
      "Program Ended!\n"
     ]
    }
   ],
   "source": [
    "print(\"Program Started!\")\n",
    "\n",
    "#getting ASCI Code from user\n",
    "asci_code =abs(int(input(\"Please enter an ASCI code: \")))\n",
    "\n",
    "#checking to make sure the number is in range 32-126\n",
    "\n",
    "if asci_code in range (32,127):\n",
    "    asci_chr = chr(asci_code)\n",
    "    print(f\"The character represented by the ASCII code {asci_code} is {asci_chr}\")\n",
    "else:\n",
    "    print(\"Error: Kindly enter correct ASCI Code!\")\n",
    "    \n",
    "print()\n",
    "\n",
    "print(\"Program Ended!\")"
   ]
  },
  {
   "cell_type": "code",
   "execution_count": null,
   "id": "99faf300",
   "metadata": {},
   "outputs": [],
   "source": []
  }
 ],
 "metadata": {
  "kernelspec": {
   "display_name": "COM728",
   "language": "python",
   "name": "com728"
  },
  "language_info": {
   "codemirror_mode": {
    "name": "ipython",
    "version": 3
   },
   "file_extension": ".py",
   "mimetype": "text/x-python",
   "name": "python",
   "nbconvert_exporter": "python",
   "pygments_lexer": "ipython3",
   "version": "3.10.13"
  }
 },
 "nbformat": 4,
 "nbformat_minor": 5
}
