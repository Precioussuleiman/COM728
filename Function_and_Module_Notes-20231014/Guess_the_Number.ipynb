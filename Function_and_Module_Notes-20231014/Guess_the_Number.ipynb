{
 "cells": [
  {
   "cell_type": "markdown",
   "id": "0dc7a168",
   "metadata": {},
   "source": [
    "Guess_the_Number"
   ]
  },
  {
   "cell_type": "code",
   "execution_count": null,
   "id": "2f05f0b3",
   "metadata": {},
   "outputs": [
    {
     "name": "stdout",
     "output_type": "stream",
     "text": [
      "Please enter the minimum value:5\n",
      "Please enter the maximum value:10\n",
      "I am thinking of a number between 5 and 10. Can you guess what it is?7\n",
      "Your guess is too low!\n",
      "I am thinking of a number between 5 and 10. Can you guess what it is?8\n",
      "Your guess is too low!\n",
      "I am thinking of a number between 5 and 10. Can you guess what it is?9\n",
      "Congratulations! You guessed my number!\n"
     ]
    }
   ],
   "source": [
    "#Defining a function\n",
    "def play_guess_the_number():\n",
    "\n",
    "#importing the module random\n",
    "\n",
    "    import random as rnd\n",
    "\n",
    "    min_value = int(input(\"Please enter the minimum value:\"))\n",
    "    max_value = int(input(\"Please enter the maximum value:\"))\n",
    "\n",
    "    number = rnd.randrange(min_value,max_value)\n",
    "\n",
    "    \n",
    "\n",
    "    while True:\n",
    "        user_input = int(input(f\"I am thinking of a number between {min_value} and {max_value}. Can you guess what it is?\"))\n",
    "        if user_input == number:\n",
    "            print (\"Congratulations! You guessed my number!\")\n",
    "        elif user_input < number:\n",
    "            print(\"Your guess is too low!\")\n",
    "        elif user_input > number:\n",
    "            print(\"Your guess is too high!\")\n",
    "        else:\n",
    "            print(\"Try again.\")\n",
    "    \n",
    "\n",
    "\n",
    "play_guess_the_number()\n"
   ]
  },
  {
   "cell_type": "code",
   "execution_count": null,
   "id": "a261e85f",
   "metadata": {},
   "outputs": [],
   "source": []
  }
 ],
 "metadata": {
  "kernelspec": {
   "display_name": "COM728",
   "language": "python",
   "name": "com728"
  },
  "language_info": {
   "codemirror_mode": {
    "name": "ipython",
    "version": 3
   },
   "file_extension": ".py",
   "mimetype": "text/x-python",
   "name": "python",
   "nbconvert_exporter": "python",
   "pygments_lexer": "ipython3",
   "version": "3.10.13"
  }
 },
 "nbformat": 4,
 "nbformat_minor": 5
}
